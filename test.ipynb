{
 "cells": [
  {
   "cell_type": "code",
   "execution_count": 1,
   "metadata": {},
   "outputs": [],
   "source": [
    "import requests\n",
    "import pandas as pd\n",
    "import json\n",
    "#from autogluon.timeseries import TimeSeriesDataFrame, TimeSeriesPredictor\n",
    "#from django.db import transaction\n",
    "#from mlapp.models import Forecast, Correlation, Feature\n",
    "import seaborn as sns\n",
    "import matplotlib.pyplot as plt"
   ]
  },
  {
   "cell_type": "code",
   "execution_count": 7,
   "metadata": {},
   "outputs": [],
   "source": [
    "devId = 'sm-0004'\n",
    "\n",
    "url_dev = f\"http://85.14.6.37:16455/api/posts/?date_range=year&not_res=true&dev={devId}\"\n",
    "url_weather = f\"http://85.14.6.37:16456/api/weather/?date_range=year&lat=43.2470&long=27.9291\"\n",
    "\n"
   ]
  },
  {
   "cell_type": "code",
   "execution_count": 8,
   "metadata": {},
   "outputs": [
    {
     "name": "stdout",
     "output_type": "stream",
     "text": [
      "                 timestamp           id  temperature  clouds  heatindex  \\\n",
      "0      2024-06-26 20:00:00     1.000000    20.700000    4.00  20.700000   \n",
      "1      2024-06-26 20:01:00     1.016667    20.686667    4.05  20.686667   \n",
      "2      2024-06-26 20:02:00     1.033333    20.673333    4.10  20.673333   \n",
      "3      2024-06-26 20:03:00     1.050000    20.660000    4.15  20.660000   \n",
      "4      2024-06-26 20:04:00     1.066667    20.646667    4.20  20.646667   \n",
      "...                    ...          ...          ...     ...        ...   \n",
      "183896 2024-11-01 12:56:00  2723.933333    17.073333    9.00  17.073333   \n",
      "183897 2024-11-01 12:57:00  2723.950000    17.080000    9.00  17.080000   \n",
      "183898 2024-11-01 12:58:00  2723.966667    17.086667    9.00  17.086667   \n",
      "183899 2024-11-01 12:59:00  2723.983333    17.093333    9.00  17.093333   \n",
      "183900 2024-11-01 13:00:00  2724.000000    17.100000    9.00  17.100000   \n",
      "\n",
      "              uv      lat     long  \n",
      "0       6.000000  43.2265  27.9504  \n",
      "1       5.916667  43.2265  27.9504  \n",
      "2       5.833333  43.2265  27.9504  \n",
      "3       5.750000  43.2265  27.9504  \n",
      "4       5.666667  43.2265  27.9504  \n",
      "...          ...      ...      ...  \n",
      "183896  5.000000  43.2265  27.9504  \n",
      "183897  5.000000  43.2265  27.9504  \n",
      "183898  5.000000  43.2265  27.9504  \n",
      "183899  5.000000  43.2265  27.9504  \n",
      "183900  5.000000  43.2265  27.9504  \n",
      "\n",
      "[183901 rows x 8 columns]\n"
     ]
    }
   ],
   "source": [
    "response = requests.get(url_weather).json()\n",
    "dfWeather = None\n",
    "if response:\n",
    "    dfWeather = pd.DataFrame(response)\n",
    "    # Convert the 'created_date' column to datetime\n",
    "    dfWeather['timestamp'] = pd.to_datetime(dfWeather['timestamp'], errors='coerce')\n",
    "    dfWeather = dfWeather[~dfWeather['timestamp'].duplicated(keep='first')]\n",
    "    dfWeather.dropna(subset=['timestamp'], inplace=True)\n",
    "    dfWeather.set_index('timestamp', inplace=True)\n",
    "    dfWeather = dfWeather.resample('min').interpolate(method='linear')\n",
    "    dfWeather.reset_index(inplace=True)\n",
    "    dfWeather['timestamp'] = dfWeather[\"timestamp\"].values.astype('datetime64[m]')\n",
    "\n",
    "    print(dfWeather)"
   ]
  },
  {
   "cell_type": "code",
   "execution_count": 10,
   "metadata": {},
   "outputs": [
    {
     "name": "stdout",
     "output_type": "stream",
     "text": [
      "                 timestamp    devId   value\n",
      "0      2024-06-21 19:00:00  sm-0004  146.26\n",
      "1      2024-06-21 19:01:00  sm-0004  145.99\n",
      "2      2024-06-21 19:02:00  sm-0004  145.72\n",
      "3      2024-06-21 19:03:00  sm-0004  145.45\n",
      "4      2024-06-21 19:04:00  sm-0004  145.18\n",
      "...                    ...      ...     ...\n",
      "191156 2024-11-01 12:56:00  sm-0004   68.03\n",
      "191157 2024-11-01 12:57:00  sm-0004   67.90\n",
      "191158 2024-11-01 12:58:00  sm-0004   67.77\n",
      "191159 2024-11-01 12:59:00  sm-0004   67.65\n",
      "191160 2024-11-01 13:00:00  sm-0004   67.52\n",
      "\n",
      "[191161 rows x 3 columns]\n"
     ]
    },
    {
     "name": "stderr",
     "output_type": "stream",
     "text": [
      "C:\\Users\\Georgi\\AppData\\Local\\Temp\\ipykernel_12936\\3804448315.py:25: FutureWarning: DataFrame.interpolate with object dtype is deprecated and will raise in a future version. Call obj.infer_objects(copy=False) before interpolating instead.\n",
      "  df_sm = df_sm.resample('min').interpolate(method='linear')\n"
     ]
    }
   ],
   "source": [
    "response = requests.get(url_dev).json()\n",
    "df_sm = None\n",
    "date_field_name = \"created\"\n",
    "if response:\n",
    "    df_sm = pd.DataFrame(response)\n",
    "    \n",
    "    #Convert the 'created_date' column to datetime\n",
    "    df_sm['timestamp'] = pd.to_datetime(df_sm[date_field_name], errors='coerce')\n",
    "    \n",
    "    #Ensure that 'timestamp' column is in datetime64 format\n",
    "    df_sm['timestamp'] = df_sm[\"timestamp\"].values.astype('datetime64[m]')\n",
    "    \n",
    "    df_sm = df_sm[~df_sm['timestamp'].duplicated(keep='first')]\n",
    "\n",
    "    # Drop rows where 'timestamp' could not be converted\n",
    "    df_sm.dropna(subset=['timestamp'], inplace=True)\n",
    "\n",
    "    # \n",
    "\n",
    "    # Set the timestamp as the index\n",
    "    df_sm.set_index('timestamp', inplace=True)\n",
    "    \n",
    "    # Resample to minute frequency, filling any gaps\n",
    "    \n",
    "    df_sm = df_sm.resample('min').interpolate(method='linear')\n",
    "    df_sm = df_sm.round(2)\n",
    "    df_sm['devId'] = devId\n",
    "    # Reset index to make timestamp a column again\n",
    "    df_sm.reset_index(inplace=True)        \n",
    "\n",
    "    columns_to_drop = [date_field_name, 'grid', 'actualCorr', 'actualProviding', 'providingAmount']\n",
    "    df_sm.drop(columns=columns_to_drop, inplace=True, errors='ignore') \n",
    "\n",
    "    print(df_sm)\n",
    "\n"
   ]
  },
  {
   "cell_type": "code",
   "execution_count": 11,
   "metadata": {},
   "outputs": [
    {
     "name": "stdout",
     "output_type": "stream",
     "text": [
      "                 timestamp    devId   value           id  temperature  clouds  \\\n",
      "0      2024-06-26 20:00:00  sm-0004  120.36     1.000000    20.700000    4.00   \n",
      "1      2024-06-26 20:01:00  sm-0004  120.47     1.016667    20.686667    4.05   \n",
      "2      2024-06-26 20:02:00  sm-0004  120.58     1.033333    20.673333    4.10   \n",
      "3      2024-06-26 20:03:00  sm-0004  120.69     1.050000    20.660000    4.15   \n",
      "4      2024-06-26 20:04:00  sm-0004  120.80     1.066667    20.646667    4.20   \n",
      "...                    ...      ...     ...          ...          ...     ...   \n",
      "183896 2024-11-01 12:56:00  sm-0004   68.03  2723.933333    17.073333    9.00   \n",
      "183897 2024-11-01 12:57:00  sm-0004   67.90  2723.950000    17.080000    9.00   \n",
      "183898 2024-11-01 12:58:00  sm-0004   67.77  2723.966667    17.086667    9.00   \n",
      "183899 2024-11-01 12:59:00  sm-0004   67.65  2723.983333    17.093333    9.00   \n",
      "183900 2024-11-01 13:00:00  sm-0004   67.52  2724.000000    17.100000    9.00   \n",
      "\n",
      "        heatindex        uv      lat     long  \n",
      "0       20.700000  6.000000  43.2265  27.9504  \n",
      "1       20.686667  5.916667  43.2265  27.9504  \n",
      "2       20.673333  5.833333  43.2265  27.9504  \n",
      "3       20.660000  5.750000  43.2265  27.9504  \n",
      "4       20.646667  5.666667  43.2265  27.9504  \n",
      "...           ...       ...      ...      ...  \n",
      "183896  17.073333  5.000000  43.2265  27.9504  \n",
      "183897  17.080000  5.000000  43.2265  27.9504  \n",
      "183898  17.086667  5.000000  43.2265  27.9504  \n",
      "183899  17.093333  5.000000  43.2265  27.9504  \n",
      "183900  17.100000  5.000000  43.2265  27.9504  \n",
      "\n",
      "[183901 rows x 10 columns]\n"
     ]
    }
   ],
   "source": [
    "\n",
    "merged_df = None\n",
    "\n",
    "if dfWeather is not None and not dfWeather.empty and df_sm is not None and not df_sm.empty:\n",
    "    common_start_timestamp = max(df_sm['timestamp'].min(), dfWeather['timestamp'].min())\n",
    "    common_end_timestamp = min(df_sm['timestamp'].max(), dfWeather['timestamp'].max())\n",
    "    # Trim both DataFrames to start from the common start timestamp and end at the common end timestamp\n",
    "    power_processed_df_trimmed = df_sm[(df_sm['timestamp'] >= common_start_timestamp) & (df_sm['timestamp'] <= common_end_timestamp)].reset_index(drop=True)\n",
    "    weather_processed_df_trimmed = dfWeather[(dfWeather['timestamp'] >= common_start_timestamp) & (dfWeather['timestamp'] <= common_end_timestamp)].reset_index(drop=True)\n",
    "\n",
    "    merged_df = pd.merge(power_processed_df_trimmed, weather_processed_df_trimmed, on='timestamp', how='inner') \n",
    "\n",
    "    print(merged_df)        \n"
   ]
  },
  {
   "cell_type": "code",
   "execution_count": null,
   "metadata": {},
   "outputs": [],
   "source": [
    "data = merged_df\n",
    "if data is not None and not data.empty:\n",
    "    train_data = TimeSeriesDataFrame.from_data_frame(\n",
    "        data,\n",
    "        id_column=\"devId\",\n",
    "        timestamp_column=\"timestamp\"\n",
    "    )\n",
    "    predictor = TimeSeriesPredictor(\n",
    "    prediction_length=700,\n",
    "    path=\"/autogluon\",  # Adjust path as needed\n",
    "    target=\"value\",\n",
    "    eval_metric=\"MASE\",\n",
    "    freq='T'  # Specify minute frequency\n",
    "    )\n",
    "    predictor.fit(\n",
    "    train_data,\n",
    "    presets=\"medium_quality\",\n",
    "    time_limit=50,\n",
    "    )\n",
    "    predictions = predictor.predict(train_data)\n",
    "\n",
    "    for index, row in predictions.iterrows():            \n",
    "        timestamp = index[1]                \n",
    "        mean_value = round(row['mean'], 2)            \n",
    "        print(f\"Timestamp:{timestamp} || PredictedValue: {mean_value}\")\n",
    "        \n",
    "        \n"
   ]
  },
  {
   "cell_type": "code",
   "execution_count": null,
   "metadata": {},
   "outputs": [],
   "source": []
  }
 ],
 "metadata": {
  "kernelspec": {
   "display_name": "django_pandas_venv",
   "language": "python",
   "name": "python3"
  },
  "language_info": {
   "codemirror_mode": {
    "name": "ipython",
    "version": 3
   },
   "file_extension": ".py",
   "mimetype": "text/x-python",
   "name": "python",
   "nbconvert_exporter": "python",
   "pygments_lexer": "ipython3",
   "version": "3.9.10"
  }
 },
 "nbformat": 4,
 "nbformat_minor": 2
}
